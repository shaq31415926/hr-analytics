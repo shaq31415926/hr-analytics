{
 "cells": [
  {
   "cell_type": "code",
   "execution_count": 1,
   "id": "dbab7671",
   "metadata": {},
   "outputs": [],
   "source": [
    "import pandas as pd\n",
    "from sklearn.model_selection import train_test_split\n",
    "from sklearn.ensemble import RandomForestClassifier\n",
    "import matplotlib.pyplot as plt\n",
    "from sklearn.metrics import ConfusionMatrixDisplay, confusion_matrix, accuracy_score"
   ]
  },
  {
   "cell_type": "code",
   "execution_count": 2,
   "id": "d1cc534f",
   "metadata": {},
   "outputs": [],
   "source": [
    "# to install library we use '!pip install' maybe at times without !\n",
    "# !pip install scikit-learn"
   ]
  },
  {
   "cell_type": "code",
   "execution_count": 3,
   "id": "28f88ce7",
   "metadata": {},
   "outputs": [
    {
     "data": {
      "text/html": [
       "<div>\n",
       "<style scoped>\n",
       "    .dataframe tbody tr th:only-of-type {\n",
       "        vertical-align: middle;\n",
       "    }\n",
       "\n",
       "    .dataframe tbody tr th {\n",
       "        vertical-align: top;\n",
       "    }\n",
       "\n",
       "    .dataframe thead th {\n",
       "        text-align: right;\n",
       "    }\n",
       "</style>\n",
       "<table border=\"1\" class=\"dataframe\">\n",
       "  <thead>\n",
       "    <tr style=\"text-align: right;\">\n",
       "      <th></th>\n",
       "      <th>job_title</th>\n",
       "      <th>duration</th>\n",
       "      <th>contract</th>\n",
       "      <th>education</th>\n",
       "      <th>age_group</th>\n",
       "      <th>number_children</th>\n",
       "      <th>residency_status</th>\n",
       "      <th>gender</th>\n",
       "      <th>emotionally_drained_score</th>\n",
       "      <th>working_w_others_effort_score</th>\n",
       "      <th>...</th>\n",
       "      <th>care_score</th>\n",
       "      <th>accomplishment_score</th>\n",
       "      <th>energy_score</th>\n",
       "      <th>understanding_score</th>\n",
       "      <th>problem_solving_score</th>\n",
       "      <th>emotional_problems_score</th>\n",
       "      <th>influence_score</th>\n",
       "      <th>atmosphere_score</th>\n",
       "      <th>refreshed_score</th>\n",
       "      <th>looking_for_another_job</th>\n",
       "    </tr>\n",
       "  </thead>\n",
       "  <tbody>\n",
       "    <tr>\n",
       "      <th>0</th>\n",
       "      <td>Coordinator</td>\n",
       "      <td>Less than 1 year</td>\n",
       "      <td>4</td>\n",
       "      <td>1</td>\n",
       "      <td>31-35</td>\n",
       "      <td>1</td>\n",
       "      <td>H</td>\n",
       "      <td>F</td>\n",
       "      <td>1</td>\n",
       "      <td>1</td>\n",
       "      <td>...</td>\n",
       "      <td>1</td>\n",
       "      <td>5</td>\n",
       "      <td>4</td>\n",
       "      <td>6</td>\n",
       "      <td>5</td>\n",
       "      <td>6</td>\n",
       "      <td>5</td>\n",
       "      <td>5</td>\n",
       "      <td>6</td>\n",
       "      <td>1</td>\n",
       "    </tr>\n",
       "    <tr>\n",
       "      <th>1</th>\n",
       "      <td>Manager</td>\n",
       "      <td>5 to 10 years</td>\n",
       "      <td>1</td>\n",
       "      <td>4</td>\n",
       "      <td>36-40</td>\n",
       "      <td>2</td>\n",
       "      <td>H</td>\n",
       "      <td>F</td>\n",
       "      <td>3</td>\n",
       "      <td>6</td>\n",
       "      <td>...</td>\n",
       "      <td>1</td>\n",
       "      <td>6</td>\n",
       "      <td>6</td>\n",
       "      <td>6</td>\n",
       "      <td>6</td>\n",
       "      <td>5</td>\n",
       "      <td>6</td>\n",
       "      <td>5</td>\n",
       "      <td>5</td>\n",
       "      <td>0</td>\n",
       "    </tr>\n",
       "    <tr>\n",
       "      <th>2</th>\n",
       "      <td>Administrator</td>\n",
       "      <td>10 + years</td>\n",
       "      <td>1</td>\n",
       "      <td>5</td>\n",
       "      <td>51-60</td>\n",
       "      <td>2</td>\n",
       "      <td>H</td>\n",
       "      <td>F</td>\n",
       "      <td>2</td>\n",
       "      <td>2</td>\n",
       "      <td>...</td>\n",
       "      <td>1</td>\n",
       "      <td>2</td>\n",
       "      <td>3</td>\n",
       "      <td>4</td>\n",
       "      <td>6</td>\n",
       "      <td>5</td>\n",
       "      <td>6</td>\n",
       "      <td>6</td>\n",
       "      <td>5</td>\n",
       "      <td>1</td>\n",
       "    </tr>\n",
       "    <tr>\n",
       "      <th>3</th>\n",
       "      <td>Coordinator</td>\n",
       "      <td>Less than 1 year</td>\n",
       "      <td>2</td>\n",
       "      <td>3</td>\n",
       "      <td>25-30</td>\n",
       "      <td>0</td>\n",
       "      <td>R</td>\n",
       "      <td>F</td>\n",
       "      <td>4</td>\n",
       "      <td>6</td>\n",
       "      <td>...</td>\n",
       "      <td>1</td>\n",
       "      <td>5</td>\n",
       "      <td>5</td>\n",
       "      <td>7</td>\n",
       "      <td>7</td>\n",
       "      <td>5</td>\n",
       "      <td>7</td>\n",
       "      <td>7</td>\n",
       "      <td>3</td>\n",
       "      <td>0</td>\n",
       "    </tr>\n",
       "    <tr>\n",
       "      <th>4</th>\n",
       "      <td>Manager</td>\n",
       "      <td>5 to 10 years</td>\n",
       "      <td>1</td>\n",
       "      <td>3</td>\n",
       "      <td>25-30</td>\n",
       "      <td>0</td>\n",
       "      <td>H</td>\n",
       "      <td>M</td>\n",
       "      <td>3</td>\n",
       "      <td>3</td>\n",
       "      <td>...</td>\n",
       "      <td>1</td>\n",
       "      <td>6</td>\n",
       "      <td>6</td>\n",
       "      <td>6</td>\n",
       "      <td>6</td>\n",
       "      <td>6</td>\n",
       "      <td>6</td>\n",
       "      <td>7</td>\n",
       "      <td>7</td>\n",
       "      <td>1</td>\n",
       "    </tr>\n",
       "  </tbody>\n",
       "</table>\n",
       "<p>5 rows × 31 columns</p>\n",
       "</div>"
      ],
      "text/plain": [
       "       job_title          duration  contract  education age_group   \n",
       "0    Coordinator  Less than 1 year         4          1     31-35  \\\n",
       "1        Manager     5 to 10 years         1          4     36-40   \n",
       "2  Administrator        10 + years         1          5     51-60   \n",
       "3    Coordinator  Less than 1 year         2          3     25-30   \n",
       "4        Manager     5 to 10 years         1          3     25-30   \n",
       "\n",
       "  number_children residency_status gender  emotionally_drained_score   \n",
       "0               1                H      F                          1  \\\n",
       "1               2                H      F                          3   \n",
       "2               2                H      F                          2   \n",
       "3               0                R      F                          4   \n",
       "4               0                H      M                          3   \n",
       "\n",
       "   working_w_others_effort_score  ...  care_score  accomplishment_score   \n",
       "0                              1  ...           1                     5  \\\n",
       "1                              6  ...           1                     6   \n",
       "2                              2  ...           1                     2   \n",
       "3                              6  ...           1                     5   \n",
       "4                              3  ...           1                     6   \n",
       "\n",
       "   energy_score  understanding_score  problem_solving_score   \n",
       "0             4                    6                      5  \\\n",
       "1             6                    6                      6   \n",
       "2             3                    4                      6   \n",
       "3             5                    7                      7   \n",
       "4             6                    6                      6   \n",
       "\n",
       "   emotional_problems_score  influence_score  atmosphere_score   \n",
       "0                         6                5                 5  \\\n",
       "1                         5                6                 5   \n",
       "2                         5                6                 6   \n",
       "3                         5                7                 7   \n",
       "4                         6                6                 7   \n",
       "\n",
       "   refreshed_score  looking_for_another_job  \n",
       "0                6                        1  \n",
       "1                5                        0  \n",
       "2                5                        1  \n",
       "3                3                        0  \n",
       "4                7                        1  \n",
       "\n",
       "[5 rows x 31 columns]"
      ]
     },
     "execution_count": 3,
     "metadata": {},
     "output_type": "execute_result"
    }
   ],
   "source": [
    "# read & preview burnout data\n",
    "burnout = pd.read_excel(\"../data/case_study_burnout.xlsx\")\n",
    "burnout.head()"
   ]
  },
  {
   "cell_type": "code",
   "execution_count": 4,
   "id": "4f6a5bb8",
   "metadata": {},
   "outputs": [
    {
     "data": {
      "text/plain": [
       "(36, 31)"
      ]
     },
     "execution_count": 4,
     "metadata": {},
     "output_type": "execute_result"
    }
   ],
   "source": [
    "# data of 36 employees and 31 potential variables to explore\n",
    "\n",
    "burnout.shape"
   ]
  },
  {
   "cell_type": "code",
   "execution_count": 5,
   "id": "bdd6735d",
   "metadata": {},
   "outputs": [
    {
     "name": "stdout",
     "output_type": "stream",
     "text": [
      "<class 'pandas.core.frame.DataFrame'>\n",
      "RangeIndex: 36 entries, 0 to 35\n",
      "Data columns (total 31 columns):\n",
      " #   Column                         Non-Null Count  Dtype \n",
      "---  ------                         --------------  ----- \n",
      " 0   job_title                      36 non-null     object\n",
      " 1   duration                       36 non-null     object\n",
      " 2   contract                       36 non-null     int64 \n",
      " 3   education                      36 non-null     int64 \n",
      " 4   age_group                      36 non-null     object\n",
      " 5   number_children                36 non-null     object\n",
      " 6   residency_status               36 non-null     object\n",
      " 7   gender                         36 non-null     object\n",
      " 8   emotionally_drained_score      36 non-null     int64 \n",
      " 9   working_w_others_effort_score  36 non-null     int64 \n",
      " 10  break_down_score               36 non-null     int64 \n",
      " 11  frustration_score              36 non-null     int64 \n",
      " 12  difficulty_score               36 non-null     int64 \n",
      " 13  contact_score                  36 non-null     int64 \n",
      " 14  end_of_my_rope_score           36 non-null     int64 \n",
      " 15  clients_objects_score          36 non-null     int64 \n",
      " 16  tired_score                    36 non-null     int64 \n",
      " 17  blame_score                    36 non-null     int64 \n",
      " 18  patience_score                 36 non-null     int64 \n",
      " 19  empathy_score                  36 non-null     int64 \n",
      " 20  sensitivity_score              36 non-null     int64 \n",
      " 21  care_score                     36 non-null     int64 \n",
      " 22  accomplishment_score           36 non-null     int64 \n",
      " 23  energy_score                   36 non-null     int64 \n",
      " 24  understanding_score            36 non-null     int64 \n",
      " 25  problem_solving_score          36 non-null     int64 \n",
      " 26  emotional_problems_score       36 non-null     int64 \n",
      " 27  influence_score                36 non-null     int64 \n",
      " 28  atmosphere_score               36 non-null     int64 \n",
      " 29  refreshed_score                36 non-null     int64 \n",
      " 30  looking_for_another_job        36 non-null     int64 \n",
      "dtypes: int64(25), object(6)\n",
      "memory usage: 8.8+ KB\n"
     ]
    }
   ],
   "source": [
    "burnout.info()"
   ]
  },
  {
   "cell_type": "code",
   "execution_count": 6,
   "id": "8d2ef8ae",
   "metadata": {},
   "outputs": [],
   "source": [
    "# to build the machine learning model we need to work with only numerical data\n",
    "# for now, we will create two dataframes and only select the numerical variables\n",
    "\n",
    "# to select numerical data we use select_dtypes()\n",
    "features = burnout.select_dtypes([\"int64\", \"float64\"])\n",
    "features.drop(['looking_for_another_job'],axis=1,inplace=True)\n",
    "\n",
    "# features then to mean x-variable & target is y-variable\n",
    "\n",
    "target = burnout.looking_for_another_job"
   ]
  },
  {
   "cell_type": "code",
   "execution_count": 7,
   "id": "808118fb",
   "metadata": {},
   "outputs": [
    {
     "data": {
      "text/html": [
       "<div>\n",
       "<style scoped>\n",
       "    .dataframe tbody tr th:only-of-type {\n",
       "        vertical-align: middle;\n",
       "    }\n",
       "\n",
       "    .dataframe tbody tr th {\n",
       "        vertical-align: top;\n",
       "    }\n",
       "\n",
       "    .dataframe thead th {\n",
       "        text-align: right;\n",
       "    }\n",
       "</style>\n",
       "<table border=\"1\" class=\"dataframe\">\n",
       "  <thead>\n",
       "    <tr style=\"text-align: right;\">\n",
       "      <th></th>\n",
       "      <th>contract</th>\n",
       "      <th>education</th>\n",
       "      <th>emotionally_drained_score</th>\n",
       "      <th>working_w_others_effort_score</th>\n",
       "      <th>break_down_score</th>\n",
       "      <th>frustration_score</th>\n",
       "      <th>difficulty_score</th>\n",
       "      <th>contact_score</th>\n",
       "      <th>end_of_my_rope_score</th>\n",
       "      <th>clients_objects_score</th>\n",
       "      <th>...</th>\n",
       "      <th>sensitivity_score</th>\n",
       "      <th>care_score</th>\n",
       "      <th>accomplishment_score</th>\n",
       "      <th>energy_score</th>\n",
       "      <th>understanding_score</th>\n",
       "      <th>problem_solving_score</th>\n",
       "      <th>emotional_problems_score</th>\n",
       "      <th>influence_score</th>\n",
       "      <th>atmosphere_score</th>\n",
       "      <th>refreshed_score</th>\n",
       "    </tr>\n",
       "  </thead>\n",
       "  <tbody>\n",
       "    <tr>\n",
       "      <th>0</th>\n",
       "      <td>4</td>\n",
       "      <td>1</td>\n",
       "      <td>1</td>\n",
       "      <td>1</td>\n",
       "      <td>1</td>\n",
       "      <td>1</td>\n",
       "      <td>1</td>\n",
       "      <td>1</td>\n",
       "      <td>1</td>\n",
       "      <td>1</td>\n",
       "      <td>...</td>\n",
       "      <td>1</td>\n",
       "      <td>1</td>\n",
       "      <td>5</td>\n",
       "      <td>4</td>\n",
       "      <td>6</td>\n",
       "      <td>5</td>\n",
       "      <td>6</td>\n",
       "      <td>5</td>\n",
       "      <td>5</td>\n",
       "      <td>6</td>\n",
       "    </tr>\n",
       "    <tr>\n",
       "      <th>1</th>\n",
       "      <td>1</td>\n",
       "      <td>4</td>\n",
       "      <td>3</td>\n",
       "      <td>6</td>\n",
       "      <td>1</td>\n",
       "      <td>2</td>\n",
       "      <td>4</td>\n",
       "      <td>1</td>\n",
       "      <td>1</td>\n",
       "      <td>1</td>\n",
       "      <td>...</td>\n",
       "      <td>1</td>\n",
       "      <td>1</td>\n",
       "      <td>6</td>\n",
       "      <td>6</td>\n",
       "      <td>6</td>\n",
       "      <td>6</td>\n",
       "      <td>5</td>\n",
       "      <td>6</td>\n",
       "      <td>5</td>\n",
       "      <td>5</td>\n",
       "    </tr>\n",
       "    <tr>\n",
       "      <th>2</th>\n",
       "      <td>1</td>\n",
       "      <td>5</td>\n",
       "      <td>2</td>\n",
       "      <td>2</td>\n",
       "      <td>1</td>\n",
       "      <td>2</td>\n",
       "      <td>2</td>\n",
       "      <td>1</td>\n",
       "      <td>1</td>\n",
       "      <td>1</td>\n",
       "      <td>...</td>\n",
       "      <td>1</td>\n",
       "      <td>1</td>\n",
       "      <td>2</td>\n",
       "      <td>3</td>\n",
       "      <td>4</td>\n",
       "      <td>6</td>\n",
       "      <td>5</td>\n",
       "      <td>6</td>\n",
       "      <td>6</td>\n",
       "      <td>5</td>\n",
       "    </tr>\n",
       "    <tr>\n",
       "      <th>3</th>\n",
       "      <td>2</td>\n",
       "      <td>3</td>\n",
       "      <td>4</td>\n",
       "      <td>6</td>\n",
       "      <td>3</td>\n",
       "      <td>2</td>\n",
       "      <td>2</td>\n",
       "      <td>5</td>\n",
       "      <td>1</td>\n",
       "      <td>1</td>\n",
       "      <td>...</td>\n",
       "      <td>4</td>\n",
       "      <td>1</td>\n",
       "      <td>5</td>\n",
       "      <td>5</td>\n",
       "      <td>7</td>\n",
       "      <td>7</td>\n",
       "      <td>5</td>\n",
       "      <td>7</td>\n",
       "      <td>7</td>\n",
       "      <td>3</td>\n",
       "    </tr>\n",
       "    <tr>\n",
       "      <th>4</th>\n",
       "      <td>1</td>\n",
       "      <td>3</td>\n",
       "      <td>3</td>\n",
       "      <td>3</td>\n",
       "      <td>2</td>\n",
       "      <td>2</td>\n",
       "      <td>2</td>\n",
       "      <td>2</td>\n",
       "      <td>1</td>\n",
       "      <td>1</td>\n",
       "      <td>...</td>\n",
       "      <td>1</td>\n",
       "      <td>1</td>\n",
       "      <td>6</td>\n",
       "      <td>6</td>\n",
       "      <td>6</td>\n",
       "      <td>6</td>\n",
       "      <td>6</td>\n",
       "      <td>6</td>\n",
       "      <td>7</td>\n",
       "      <td>7</td>\n",
       "    </tr>\n",
       "  </tbody>\n",
       "</table>\n",
       "<p>5 rows × 24 columns</p>\n",
       "</div>"
      ],
      "text/plain": [
       "   contract  education  emotionally_drained_score   \n",
       "0         4          1                          1  \\\n",
       "1         1          4                          3   \n",
       "2         1          5                          2   \n",
       "3         2          3                          4   \n",
       "4         1          3                          3   \n",
       "\n",
       "   working_w_others_effort_score  break_down_score  frustration_score   \n",
       "0                              1                 1                  1  \\\n",
       "1                              6                 1                  2   \n",
       "2                              2                 1                  2   \n",
       "3                              6                 3                  2   \n",
       "4                              3                 2                  2   \n",
       "\n",
       "   difficulty_score  contact_score  end_of_my_rope_score   \n",
       "0                 1              1                     1  \\\n",
       "1                 4              1                     1   \n",
       "2                 2              1                     1   \n",
       "3                 2              5                     1   \n",
       "4                 2              2                     1   \n",
       "\n",
       "   clients_objects_score  ...  sensitivity_score  care_score   \n",
       "0                      1  ...                  1           1  \\\n",
       "1                      1  ...                  1           1   \n",
       "2                      1  ...                  1           1   \n",
       "3                      1  ...                  4           1   \n",
       "4                      1  ...                  1           1   \n",
       "\n",
       "   accomplishment_score  energy_score  understanding_score   \n",
       "0                     5             4                    6  \\\n",
       "1                     6             6                    6   \n",
       "2                     2             3                    4   \n",
       "3                     5             5                    7   \n",
       "4                     6             6                    6   \n",
       "\n",
       "   problem_solving_score  emotional_problems_score  influence_score   \n",
       "0                      5                         6                5  \\\n",
       "1                      6                         5                6   \n",
       "2                      6                         5                6   \n",
       "3                      7                         5                7   \n",
       "4                      6                         6                6   \n",
       "\n",
       "   atmosphere_score  refreshed_score  \n",
       "0                 5                6  \n",
       "1                 5                5  \n",
       "2                 6                5  \n",
       "3                 7                3  \n",
       "4                 7                7  \n",
       "\n",
       "[5 rows x 24 columns]"
      ]
     },
     "execution_count": 7,
     "metadata": {},
     "output_type": "execute_result"
    }
   ],
   "source": [
    "features.head()"
   ]
  },
  {
   "cell_type": "code",
   "execution_count": 8,
   "id": "b92cd6f1",
   "metadata": {},
   "outputs": [
    {
     "name": "stdout",
     "output_type": "stream",
     "text": [
      "<class 'pandas.core.frame.DataFrame'>\n",
      "RangeIndex: 36 entries, 0 to 35\n",
      "Data columns (total 24 columns):\n",
      " #   Column                         Non-Null Count  Dtype\n",
      "---  ------                         --------------  -----\n",
      " 0   contract                       36 non-null     int64\n",
      " 1   education                      36 non-null     int64\n",
      " 2   emotionally_drained_score      36 non-null     int64\n",
      " 3   working_w_others_effort_score  36 non-null     int64\n",
      " 4   break_down_score               36 non-null     int64\n",
      " 5   frustration_score              36 non-null     int64\n",
      " 6   difficulty_score               36 non-null     int64\n",
      " 7   contact_score                  36 non-null     int64\n",
      " 8   end_of_my_rope_score           36 non-null     int64\n",
      " 9   clients_objects_score          36 non-null     int64\n",
      " 10  tired_score                    36 non-null     int64\n",
      " 11  blame_score                    36 non-null     int64\n",
      " 12  patience_score                 36 non-null     int64\n",
      " 13  empathy_score                  36 non-null     int64\n",
      " 14  sensitivity_score              36 non-null     int64\n",
      " 15  care_score                     36 non-null     int64\n",
      " 16  accomplishment_score           36 non-null     int64\n",
      " 17  energy_score                   36 non-null     int64\n",
      " 18  understanding_score            36 non-null     int64\n",
      " 19  problem_solving_score          36 non-null     int64\n",
      " 20  emotional_problems_score       36 non-null     int64\n",
      " 21  influence_score                36 non-null     int64\n",
      " 22  atmosphere_score               36 non-null     int64\n",
      " 23  refreshed_score                36 non-null     int64\n",
      "dtypes: int64(24)\n",
      "memory usage: 6.9 KB\n"
     ]
    }
   ],
   "source": [
    "# check the info of features\n",
    "\n",
    "features.info()"
   ]
  },
  {
   "cell_type": "code",
   "execution_count": 9,
   "id": "c162a7d2",
   "metadata": {},
   "outputs": [
    {
     "data": {
      "text/plain": [
       "0    1\n",
       "1    0\n",
       "2    1\n",
       "3    0\n",
       "4    1\n",
       "Name: looking_for_another_job, dtype: int64"
      ]
     },
     "execution_count": 9,
     "metadata": {},
     "output_type": "execute_result"
    }
   ],
   "source": [
    "target.head()"
   ]
  },
  {
   "cell_type": "code",
   "execution_count": 10,
   "id": "a1dc0c83",
   "metadata": {},
   "outputs": [
    {
     "data": {
      "text/plain": [
       "looking_for_another_job\n",
       "1    22\n",
       "0    14\n",
       "Name: count, dtype: int64"
      ]
     },
     "execution_count": 10,
     "metadata": {},
     "output_type": "execute_result"
    }
   ],
   "source": [
    "target.value_counts(dropna=False)"
   ]
  },
  {
   "cell_type": "code",
   "execution_count": 11,
   "id": "9d9053d3",
   "metadata": {},
   "outputs": [
    {
     "name": "stdout",
     "output_type": "stream",
     "text": [
      "<class 'pandas.core.series.Series'>\n",
      "RangeIndex: 36 entries, 0 to 35\n",
      "Series name: looking_for_another_job\n",
      "Non-Null Count  Dtype\n",
      "--------------  -----\n",
      "36 non-null     int64\n",
      "dtypes: int64(1)\n",
      "memory usage: 420.0 bytes\n"
     ]
    }
   ],
   "source": [
    "target.info()"
   ]
  },
  {
   "cell_type": "code",
   "execution_count": 12,
   "id": "5053ce40",
   "metadata": {},
   "outputs": [],
   "source": [
    "# in this feature what we are doing is that we have various variables in the x-variable i.e x1+x2+x3....\n",
    "# one way we can determine which x variables have a strong impact on our target(yvar), we could use machine learning where the train function seperates the factors\n",
    "\n",
    "# split the data into train and test set\n",
    "\n",
    "X_train, X_test, y_train, y_test = train_test_split(\n",
    "                                                features, \n",
    "                                                target,\n",
    "                                                test_size = 0.2, \n",
    "                                                random_state = 8)"
   ]
  },
  {
   "cell_type": "code",
   "execution_count": 13,
   "id": "96c9d7b9",
   "metadata": {},
   "outputs": [],
   "source": [
    "# now let's train the machine learning algorithm\n",
    "\n",
    "rf=RandomForestClassifier()"
   ]
  },
  {
   "cell_type": "code",
   "execution_count": 14,
   "id": "c679bced",
   "metadata": {},
   "outputs": [
    {
     "data": {
      "text/html": [
       "<style>#sk-container-id-1 {color: black;background-color: white;}#sk-container-id-1 pre{padding: 0;}#sk-container-id-1 div.sk-toggleable {background-color: white;}#sk-container-id-1 label.sk-toggleable__label {cursor: pointer;display: block;width: 100%;margin-bottom: 0;padding: 0.3em;box-sizing: border-box;text-align: center;}#sk-container-id-1 label.sk-toggleable__label-arrow:before {content: \"▸\";float: left;margin-right: 0.25em;color: #696969;}#sk-container-id-1 label.sk-toggleable__label-arrow:hover:before {color: black;}#sk-container-id-1 div.sk-estimator:hover label.sk-toggleable__label-arrow:before {color: black;}#sk-container-id-1 div.sk-toggleable__content {max-height: 0;max-width: 0;overflow: hidden;text-align: left;background-color: #f0f8ff;}#sk-container-id-1 div.sk-toggleable__content pre {margin: 0.2em;color: black;border-radius: 0.25em;background-color: #f0f8ff;}#sk-container-id-1 input.sk-toggleable__control:checked~div.sk-toggleable__content {max-height: 200px;max-width: 100%;overflow: auto;}#sk-container-id-1 input.sk-toggleable__control:checked~label.sk-toggleable__label-arrow:before {content: \"▾\";}#sk-container-id-1 div.sk-estimator input.sk-toggleable__control:checked~label.sk-toggleable__label {background-color: #d4ebff;}#sk-container-id-1 div.sk-label input.sk-toggleable__control:checked~label.sk-toggleable__label {background-color: #d4ebff;}#sk-container-id-1 input.sk-hidden--visually {border: 0;clip: rect(1px 1px 1px 1px);clip: rect(1px, 1px, 1px, 1px);height: 1px;margin: -1px;overflow: hidden;padding: 0;position: absolute;width: 1px;}#sk-container-id-1 div.sk-estimator {font-family: monospace;background-color: #f0f8ff;border: 1px dotted black;border-radius: 0.25em;box-sizing: border-box;margin-bottom: 0.5em;}#sk-container-id-1 div.sk-estimator:hover {background-color: #d4ebff;}#sk-container-id-1 div.sk-parallel-item::after {content: \"\";width: 100%;border-bottom: 1px solid gray;flex-grow: 1;}#sk-container-id-1 div.sk-label:hover label.sk-toggleable__label {background-color: #d4ebff;}#sk-container-id-1 div.sk-serial::before {content: \"\";position: absolute;border-left: 1px solid gray;box-sizing: border-box;top: 0;bottom: 0;left: 50%;z-index: 0;}#sk-container-id-1 div.sk-serial {display: flex;flex-direction: column;align-items: center;background-color: white;padding-right: 0.2em;padding-left: 0.2em;position: relative;}#sk-container-id-1 div.sk-item {position: relative;z-index: 1;}#sk-container-id-1 div.sk-parallel {display: flex;align-items: stretch;justify-content: center;background-color: white;position: relative;}#sk-container-id-1 div.sk-item::before, #sk-container-id-1 div.sk-parallel-item::before {content: \"\";position: absolute;border-left: 1px solid gray;box-sizing: border-box;top: 0;bottom: 0;left: 50%;z-index: -1;}#sk-container-id-1 div.sk-parallel-item {display: flex;flex-direction: column;z-index: 1;position: relative;background-color: white;}#sk-container-id-1 div.sk-parallel-item:first-child::after {align-self: flex-end;width: 50%;}#sk-container-id-1 div.sk-parallel-item:last-child::after {align-self: flex-start;width: 50%;}#sk-container-id-1 div.sk-parallel-item:only-child::after {width: 0;}#sk-container-id-1 div.sk-dashed-wrapped {border: 1px dashed gray;margin: 0 0.4em 0.5em 0.4em;box-sizing: border-box;padding-bottom: 0.4em;background-color: white;}#sk-container-id-1 div.sk-label label {font-family: monospace;font-weight: bold;display: inline-block;line-height: 1.2em;}#sk-container-id-1 div.sk-label-container {text-align: center;}#sk-container-id-1 div.sk-container {/* jupyter's `normalize.less` sets `[hidden] { display: none; }` but bootstrap.min.css set `[hidden] { display: none !important; }` so we also need the `!important` here to be able to override the default hidden behavior on the sphinx rendered scikit-learn.org. See: https://github.com/scikit-learn/scikit-learn/issues/21755 */display: inline-block !important;position: relative;}#sk-container-id-1 div.sk-text-repr-fallback {display: none;}</style><div id=\"sk-container-id-1\" class=\"sk-top-container\"><div class=\"sk-text-repr-fallback\"><pre>RandomForestClassifier()</pre><b>In a Jupyter environment, please rerun this cell to show the HTML representation or trust the notebook. <br />On GitHub, the HTML representation is unable to render, please try loading this page with nbviewer.org.</b></div><div class=\"sk-container\" hidden><div class=\"sk-item\"><div class=\"sk-estimator sk-toggleable\"><input class=\"sk-toggleable__control sk-hidden--visually\" id=\"sk-estimator-id-1\" type=\"checkbox\" checked><label for=\"sk-estimator-id-1\" class=\"sk-toggleable__label sk-toggleable__label-arrow\">RandomForestClassifier</label><div class=\"sk-toggleable__content\"><pre>RandomForestClassifier()</pre></div></div></div></div></div>"
      ],
      "text/plain": [
       "RandomForestClassifier()"
      ]
     },
     "execution_count": 14,
     "metadata": {},
     "output_type": "execute_result"
    }
   ],
   "source": [
    "rf.fit(X_train,y_train)"
   ]
  },
  {
   "cell_type": "code",
   "execution_count": 15,
   "id": "cd07bbd7",
   "metadata": {},
   "outputs": [],
   "source": [
    "def feature_importance_plot(model, X_train, n):\n",
    "    \"\"\"Plots feature importance - this only works for Random Forest and XGBoost Models\n",
    "\n",
    "    @param model - the trained model\n",
    "    @param X_train dataframe - the training dataset\n",
    "    @param n int - the number of features we are interested in plotting\n",
    "    \n",
    "    @return a plot with the Top n features\n",
    "    \"\"\"\n",
    "    \n",
    "    plt.figure(figsize=(8, 5)) # set figure size\n",
    "    feat_importances = pd.Series(model.feature_importances_,\n",
    "                                 index = X_train.columns)\n",
    "    feat_importances.nlargest(n).plot(kind = 'bar')\n",
    "    plt.title(f\"Top {n} Features\")\n",
    "    plt.show()"
   ]
  },
  {
   "cell_type": "code",
   "execution_count": 16,
   "id": "168356f9",
   "metadata": {},
   "outputs": [
    {
     "data": {
      "image/png": "[encoded data removed]",
      "text/plain": [
       "<Figure size 800x500 with 1 Axes>"
      ]
     },
     "metadata": {},
     "output_type": "display_data"
    }
   ],
   "source": [
    "# you can reduce the number of important features to 5\n",
    "\n",
    "feature_importance_plot(rf, X_train, n=10)"
   ]
  },
  {
   "cell_type": "code",
   "execution_count": 17,
   "id": "3a890efd",
   "metadata": {},
   "outputs": [],
   "source": [
    "# to know how well our model is performance, we use an accuracy code. below the model makes predictions\n",
    "\n",
    "y_pred = rf.predict(X_test)"
   ]
  },
  {
   "cell_type": "code",
   "execution_count": 18,
   "id": "17ca02e8",
   "metadata": {},
   "outputs": [
    {
     "data": {
      "image/png": "[encoded data removed]",
      "text/plain": [
       "<Figure size 640x480 with 2 Axes>"
      ]
     },
     "metadata": {},
     "output_type": "display_data"
    }
   ],
   "source": [
    "# Confusion Matrix\n",
    "\n",
    "cm = confusion_matrix(y_test, y_pred)\n",
    "\n",
    "disp = ConfusionMatrixDisplay(confusion_matrix=cm,\n",
    "                               display_labels=rf.classes_)\n",
    "\n",
    "disp.plot()\n",
    "plt.show()\n",
    "\n",
    "# yellow is where they made an incorrect prediction, \n",
    "# green is where a correct prediction is made. \n",
    "# - dont look at the colours! \n",
    "# THOSE THAT ARE DIAGONAL ARE ONES PREDICTED CORRECTLY AS TO LOOK AT THE THE ACCURACY % \n",
    "# YOU LOOK AT THE NUMBERS e.g (3+2)/8 !!right now we have a 60% accurage. \n",
    "# so we need more data to train on"
   ]
  },
  {
   "cell_type": "code",
   "execution_count": 19,
   "id": "154e4278",
   "metadata": {},
   "outputs": [
    {
     "data": {
      "text/plain": [
       "0.625"
      ]
     },
     "execution_count": 19,
     "metadata": {},
     "output_type": "execute_result"
    }
   ],
   "source": [
    "# this calculates accuracy, using code \n",
    "accuracy_score(y_test,y_pred)"
   ]
  }
 ],
 "metadata": {
  "kernelspec": {
   "display_name": "Python 3 (ipykernel)",
   "language": "python",
   "name": "python3"
  },
  "language_info": {
   "codemirror_mode": {
    "name": "ipython",
    "version": 3
   },
   "file_extension": ".py",
   "mimetype": "text/x-python",
   "name": "python",
   "nbconvert_exporter": "python",
   "pygments_lexer": "ipython3",
   "version": "3.11.3"
  }
 },
 "nbformat": 4,
 "nbformat_minor": 5
}
